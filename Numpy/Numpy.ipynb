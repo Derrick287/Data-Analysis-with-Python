{
  "nbformat": 4,
  "nbformat_minor": 0,
  "metadata": {
    "colab": {
      "provenance": [],
      "authorship_tag": "ABX9TyMq4VYsLDm/Y3GGZu2JKDn9",
      "include_colab_link": true
    },
    "kernelspec": {
      "name": "python3",
      "display_name": "Python 3"
    },
    "language_info": {
      "name": "python"
    }
  },
  "cells": [
    {
      "cell_type": "markdown",
      "metadata": {
        "id": "view-in-github",
        "colab_type": "text"
      },
      "source": [
        "<a href=\"https://colab.research.google.com/github/Derrick287/Data-Analysis-with-Python/blob/main/Numpy.ipynb\" target=\"_parent\"><img src=\"https://colab.research.google.com/assets/colab-badge.svg\" alt=\"Open In Colab\"/></a>"
      ]
    },
    {
      "cell_type": "markdown",
      "source": [
        "<h1>1. Introduction</h2>"
      ],
      "metadata": {
        "id": "hNaGgTfPInHq"
      }
    },
    {
      "cell_type": "markdown",
      "source": [
        "<h2>1.1 Array Creation</h2>"
      ],
      "metadata": {
        "id": "Lzpa_JHIGE5F"
      }
    },
    {
      "cell_type": "code",
      "execution_count": 2,
      "metadata": {
        "id": "YgQUwK3wFi8Q"
      },
      "outputs": [],
      "source": [
        "import numpy as np\n",
        "\n",
        "# 1D array\n",
        "arr1 = np.array([1, 2, 3, 4, 5])\n",
        "\n",
        "# 2D array\n",
        "arr2 = np.array([[1, 2, 3], [4, 5, 6]])\n",
        "\n",
        "# Initialize array with zeros\n",
        "zeros_arr = np.zeros((3, 3))  # 3x3 array of zeros\n",
        "\n",
        "# Initialize array with ones\n",
        "ones_arr = np.ones((2, 4))  # 2x4 array of ones\n",
        "\n",
        "# Create an array with a range of values\n",
        "range_arr = np.arange(0, 10, 2)  # array([0, 2, 4, 6, 8])\n",
        "\n",
        "# Create an array with random values\n",
        "random_arr = np.random.rand(3, 3)  # 3x3 array of random values between 0 and 1\n"
      ]
    },
    {
      "cell_type": "markdown",
      "source": [
        "<h2>1.2 Indexing:</h2>"
      ],
      "metadata": {
        "id": "XPGqmWYBHLlZ"
      }
    },
    {
      "cell_type": "markdown",
      "source": [
        "<h3>1.2.1 Indexing: Accessing elements in a 1D array:</h3>"
      ],
      "metadata": {
        "id": "x77jigH9HLf_"
      }
    },
    {
      "cell_type": "code",
      "source": [
        "arr = np.array([1, 2, 3, 4, 5])\n",
        "\n",
        "print(arr[0])  # 1\n",
        "print(arr[3])  # 4\n"
      ],
      "metadata": {
        "colab": {
          "base_uri": "https://localhost:8080/"
        },
        "id": "_hAKXwioHEFu",
        "outputId": "43d3262d-fbe6-4b1e-e63d-d895618ebef9"
      },
      "execution_count": 4,
      "outputs": [
        {
          "output_type": "stream",
          "name": "stdout",
          "text": [
            "1\n",
            "4\n"
          ]
        }
      ]
    },
    {
      "cell_type": "markdown",
      "source": [
        "<h3>1.2.2 Indexing: Accessing elements in a 2D array</h3>"
      ],
      "metadata": {
        "id": "Sd1rntJpICNs"
      }
    },
    {
      "cell_type": "code",
      "source": [
        "arr = np.array([[1, 2, 3], [4, 5, 6]])\n",
        "\n",
        "print(arr[0, 1])  # 2\n",
        "print(arr[1, 2])  # 6"
      ],
      "metadata": {
        "colab": {
          "base_uri": "https://localhost:8080/"
        },
        "id": "1K7Q3NCKIekC",
        "outputId": "0a3c828d-e5f6-4420-9102-0c607ec0bd29"
      },
      "execution_count": 5,
      "outputs": [
        {
          "output_type": "stream",
          "name": "stdout",
          "text": [
            "2\n",
            "6\n"
          ]
        }
      ]
    },
    {
      "cell_type": "markdown",
      "source": [
        "<h3>1.2.3 Indexing:Boolean indexing (using a boolean mask):</h3>"
      ],
      "metadata": {
        "id": "hWYp96RXJRwr"
      }
    },
    {
      "cell_type": "code",
      "source": [
        "arr = np.array([1, 2, 3, 4, 5])\n",
        "mask = arr > 2\n",
        "\n",
        "print(arr[mask])  # [3, 4, 5]"
      ],
      "metadata": {
        "colab": {
          "base_uri": "https://localhost:8080/"
        },
        "id": "P4in84u_JWFH",
        "outputId": "7b825e86-a089-4377-8d5c-559bbe250e12"
      },
      "execution_count": 6,
      "outputs": [
        {
          "output_type": "stream",
          "name": "stdout",
          "text": [
            "[3 4 5]\n"
          ]
        }
      ]
    },
    {
      "cell_type": "markdown",
      "source": [
        "<h2>1.3 Slicing:</h2>"
      ],
      "metadata": {
        "id": "et8OCVqLJn81"
      }
    },
    {
      "cell_type": "markdown",
      "source": [
        "<h3>1.3.1 Slicing: Slicing a 1D array</h3>"
      ],
      "metadata": {
        "id": "Qda5AmFTJxVJ"
      }
    },
    {
      "cell_type": "code",
      "source": [
        "arr = np.array([1, 2, 3, 4, 5])\n",
        "\n",
        "print(arr[1:4])  # [2, 3, 4]\n",
        "print(arr[:3])   # [1, 2, 3]\n",
        "print(arr[2:])   # [3, 4, 5]\n"
      ],
      "metadata": {
        "colab": {
          "base_uri": "https://localhost:8080/"
        },
        "id": "kgOtRZ0kJ6oT",
        "outputId": "9128057d-9cdd-403e-d2c8-ba7bb0d20eec"
      },
      "execution_count": 7,
      "outputs": [
        {
          "output_type": "stream",
          "name": "stdout",
          "text": [
            "[2 3 4]\n",
            "[1 2 3]\n",
            "[3 4 5]\n"
          ]
        }
      ]
    },
    {
      "cell_type": "markdown",
      "source": [
        "<h3>1.3.2 Slicing: Slicing a 2D array</h3>"
      ],
      "metadata": {
        "id": "aQU8a9QkKV-u"
      }
    },
    {
      "cell_type": "code",
      "source": [
        "arr = np.array([[1, 2, 3], [4, 5, 6], [7, 8, 9]])\n",
        "\n",
        "print(arr[1:3, 0:2])\n",
        "# [[4, 5]\n",
        "#  [7, 8]]\n",
        "\n",
        "print(arr[:, 1])  # [2, 5, 8]"
      ],
      "metadata": {
        "colab": {
          "base_uri": "https://localhost:8080/"
        },
        "id": "wMP4x6p-KiVK",
        "outputId": "374d812e-9341-4d01-fd45-25d62ec36a51"
      },
      "execution_count": 8,
      "outputs": [
        {
          "output_type": "stream",
          "name": "stdout",
          "text": [
            "[[4 5]\n",
            " [7 8]]\n",
            "[2 5 8]\n"
          ]
        }
      ]
    },
    {
      "cell_type": "markdown",
      "source": [
        "<h3>1.3.3 Slicing: Assigning values using slicing</h3>\n"
      ],
      "metadata": {
        "id": "54qrMr7cLCA-"
      }
    },
    {
      "cell_type": "code",
      "source": [
        "arr = np.array([1, 2, 3, 4, 5])\n",
        "arr[1:4] = 10\n",
        "\n",
        "print(arr)  # [1, 10, 10, 10, 5]\n"
      ],
      "metadata": {
        "colab": {
          "base_uri": "https://localhost:8080/"
        },
        "id": "YEd_5orjLJjs",
        "outputId": "41b15f7e-68a5-4769-da7c-340d93cfddf1"
      },
      "execution_count": 9,
      "outputs": [
        {
          "output_type": "stream",
          "name": "stdout",
          "text": [
            "[ 1 10 10 10  5]\n"
          ]
        }
      ]
    },
    {
      "cell_type": "markdown",
      "source": [
        "<h2>1.4 Array attributes and methods</h2>"
      ],
      "metadata": {
        "id": "UUJ_ELU2MiLU"
      }
    },
    {
      "cell_type": "markdown",
      "source": [
        "<h3>Array Attributes:</h3>\n",
        "\n",
        "<b>ndarray.shape</b>: Returns the dimensions of the array as a tuple. For a 2D array, it returns (rows, columns).<br>\n",
        "<b>ndarray.size</b>: Returns the total number of elements in the array.<br>\n",
        "<b>ndarray.dtype</b>: Returns the data type of the elements in the array.<br>\n",
        "<b>ndarray.ndim</b>: Returns the number of dimensions (axes) of the array.<br>\n",
        "<b>ndarray.itemsize</b>: Returns the size (in bytes) of each element in the array.<br>\n",
        "<h3>Array Methods:</h3>\n",
        "\n",
        "<b>ndarray.reshape(new_shape)</b>: Returns a new array with a different shape. The new_shape argument should be a tuple specifying the desired dimensions.<br>\n",
        "<b>ndarray.transpose()</b>: Returns a new array with axes transposed. It is equivalent to calling ndarray.T.<br>\n",
        "<b>ndarray.flatten()</b>: Returns a new 1D array containing a copy of the elements of the original array. The returned array is always a copy, even if the original array was 1D.<br>\n",
        "<b>ndarray.max(), ndarray.min()</b>: Returns the maximum or minimum element in the array.<br>\n",
        "<b>ndarray.mean(), ndarray.sum()</b>: Returns the mean or sum of the elements in the array.<br>\n",
        "<b>ndarray.argmax(), ndarray.argmin()</b>: Returns the indices of the maximum or minimum element in the array.<br>\n",
        "<b>ndarray.sort()</b>: Sorts the elements of the array along a specified axis.<br>\n",
        "<b>ndarray.concatenate(arrays, axis=None)</b>: Concatenates multiple arrays along the specified axis.<br>"
      ],
      "metadata": {
        "id": "y4Gs5iIYMlQx"
      }
    },
    {
      "cell_type": "code",
      "source": [
        "import numpy as np\n",
        "\n",
        "arr = np.array([[1, 2, 3], [4, 5, 6]])\n",
        "\n",
        "print(arr.shape)         # (2, 3)\n",
        "print(arr.size)          # 6\n",
        "print(arr.dtype)         # int64\n",
        "print(arr.ndim)          # 2\n",
        "print(arr.itemsize)      # 8 (bytes)\n",
        "\n",
        "reshaped_arr = arr.reshape((3, 2))\n",
        "print(reshaped_arr)      # [[1 2]\n",
        "                         #  [3 4]\n",
        "                         #  [5 6]]\n",
        "\n",
        "transposed_arr = arr.transpose()\n",
        "print(transposed_arr)    # [[1 4]\n",
        "                         #  [2 5]\n",
        "                         #  [3 6]]\n",
        "\n",
        "flattened_arr = arr.flatten()\n",
        "print(flattened_arr)     # [1 2 3 4 5 6]\n",
        "\n",
        "print(arr.max())         # 6\n",
        "print(arr.min())         # 1\n",
        "print(arr.mean())        # 3.5\n",
        "print(arr.sum())         # 21\n",
        "\n",
        "sorted_arr = arr.sort(axis=0)\n",
        "print(arr)               # [[1 2 3]\n",
        "                         #  [4 5 6]]\n"
      ],
      "metadata": {
        "colab": {
          "base_uri": "https://localhost:8080/"
        },
        "id": "GbndwvXkO3-t",
        "outputId": "8a661fe2-7578-4c8c-a6a1-9551d15d7880"
      },
      "execution_count": 10,
      "outputs": [
        {
          "output_type": "stream",
          "name": "stdout",
          "text": [
            "(2, 3)\n",
            "6\n",
            "int64\n",
            "2\n",
            "8\n",
            "[[1 2]\n",
            " [3 4]\n",
            " [5 6]]\n",
            "[[1 4]\n",
            " [2 5]\n",
            " [3 6]]\n",
            "[1 2 3 4 5 6]\n",
            "6\n",
            "1\n",
            "3.5\n",
            "21\n",
            "[[1 2 3]\n",
            " [4 5 6]]\n"
          ]
        }
      ]
    },
    {
      "cell_type": "markdown",
      "source": [
        "<h1>2. NumPy Array Operations</h1>"
      ],
      "metadata": {
        "id": "NJQHJ-pQPPVC"
      }
    },
    {
      "cell_type": "markdown",
      "source": [
        "<h2>2.1. Basic array operations: arithmetic, logical, and comparison operations</h2>"
      ],
      "metadata": {
        "id": "_AEOtXEPP-mF"
      }
    },
    {
      "cell_type": "code",
      "source": [
        "import numpy as np\n",
        "\n",
        "arr1 = np.array([1, 2, 3])\n",
        "arr2 = np.array([4, 5, 6])\n",
        "\n",
        "# Arithmetic Operations\n",
        "addition = arr1 + arr2\n",
        "print(addition)           # [5 7 9]\n",
        "\n",
        "multiplication = arr1 * arr2\n",
        "print(multiplication)     # [4 10 18]\n",
        "\n",
        "exponentiation = np.exp(arr1)\n",
        "print(exponentiation)     # [2.71828183 7.3890561  20.08553692]\n",
        "\n",
        "# Logical Operations\n",
        "logical_and = arr1 > 1\n",
        "print(logical_and)        # [False  True  True]\n",
        "\n",
        "logical_or = arr1 < 2\n",
        "print(logical_or)         # [ True False False]\n",
        "\n",
        "logical_not = ~logical_and\n",
        "print(logical_not)        # [ True False False]\n",
        "\n",
        "# Comparison Operations\n",
        "equality = arr1 == arr2\n",
        "print(equality)           # [False False False]\n",
        "\n",
        "greater_than = arr1 > arr2\n",
        "print(greater_than)       # [False False False]\n",
        "\n",
        "less_than_or_equal_to = arr1 <= arr2\n",
        "print(less_than_or_equal_to)  # [ True  True  True]\n"
      ],
      "metadata": {
        "colab": {
          "base_uri": "https://localhost:8080/"
        },
        "id": "rrYXxjisQYJg",
        "outputId": "679486b6-2ef1-4c8b-c47a-6ce7c54d0668"
      },
      "execution_count": 11,
      "outputs": [
        {
          "output_type": "stream",
          "name": "stdout",
          "text": [
            "[5 7 9]\n",
            "[ 4 10 18]\n",
            "[ 2.71828183  7.3890561  20.08553692]\n",
            "[False  True  True]\n",
            "[ True False False]\n",
            "[ True False False]\n",
            "[False False False]\n",
            "[False False False]\n",
            "[ True  True  True]\n"
          ]
        }
      ]
    },
    {
      "cell_type": "markdown",
      "source": [
        "<h1>2.2. Broadcasting and vectorization</h2>"
      ],
      "metadata": {
        "id": "-B2iQ0ETSipq"
      }
    },
    {
      "cell_type": "markdown",
      "source": [
        "<h3>2.2.1 Broadcasting</h3>\n"
      ],
      "metadata": {
        "id": "lJGfgJJJSijI"
      }
    },
    {
      "cell_type": "code",
      "source": [
        "import numpy as np\n",
        "\n",
        "a = np.array([1, 2, 3])\n",
        "b = np.array([[4], [5], [6]])\n",
        "\n",
        "result = a + b\n",
        "print(result)\n",
        "# [[5 6 7]\n",
        "#  [6 7 8]\n",
        "#  [7 8 9]]\n"
      ],
      "metadata": {
        "colab": {
          "base_uri": "https://localhost:8080/"
        },
        "id": "njaqEIT1TrvK",
        "outputId": "033a7a86-04c5-4fbb-9a70-b69678175ecb"
      },
      "execution_count": 12,
      "outputs": [
        {
          "output_type": "stream",
          "name": "stdout",
          "text": [
            "[[5 6 7]\n",
            " [6 7 8]\n",
            " [7 8 9]]\n"
          ]
        }
      ]
    },
    {
      "cell_type": "markdown",
      "source": [
        "<h3>2.2.3. Vectorization</h3>"
      ],
      "metadata": {
        "id": "99NWYjf-TNMx"
      }
    },
    {
      "cell_type": "code",
      "source": [
        "import numpy as np\n",
        "\n",
        "a = np.array([1, 2, 3])\n",
        "b = np.array([4, 5, 6])\n",
        "\n",
        "result = a * b\n",
        "print(result)  # [4 10 18]\n"
      ],
      "metadata": {
        "colab": {
          "base_uri": "https://localhost:8080/"
        },
        "id": "fhX1HFNqTwwy",
        "outputId": "5bb5c7ef-9ed0-4c9f-9bef-be37c3f3a06b"
      },
      "execution_count": 13,
      "outputs": [
        {
          "output_type": "stream",
          "name": "stdout",
          "text": [
            "[ 4 10 18]\n"
          ]
        }
      ]
    },
    {
      "cell_type": "markdown",
      "source": [
        "<h2>2.3. Array reshaping and resizing</h2>"
      ],
      "metadata": {
        "id": "dLitHy7fVn6R"
      }
    },
    {
      "cell_type": "markdown",
      "source": [
        "<h3>2.3.1. Reshaping:</h3>"
      ],
      "metadata": {
        "id": "g0wPqN85V8mD"
      }
    },
    {
      "cell_type": "markdown",
      "source": [
        "<b>ndarray.reshape(new_shape)</b>: Returns a new array with a different shape, without changing the original array. The new_shape argument should be a tuple specifying the desired dimensions."
      ],
      "metadata": {
        "id": "vX4ZZXEtab2l"
      }
    },
    {
      "cell_type": "code",
      "source": [
        "import numpy as np\n",
        "\n",
        "arr = np.array([1, 2, 3, 4, 5, 6])\n",
        "\n",
        "reshaped_arr = arr.reshape((2, 3))\n",
        "print(reshaped_arr)\n",
        "# [[1 2 3]\n",
        "#  [4 5 6]]\n"
      ],
      "metadata": {
        "colab": {
          "base_uri": "https://localhost:8080/"
        },
        "id": "sfkS8VUXWH0l",
        "outputId": "98bf6fa4-a437-43da-df41-67f2e92c2daf"
      },
      "execution_count": 14,
      "outputs": [
        {
          "output_type": "stream",
          "name": "stdout",
          "text": [
            "[[1 2 3]\n",
            " [4 5 6]]\n"
          ]
        }
      ]
    },
    {
      "cell_type": "markdown",
      "source": [
        "<b>ndarray.resize(new_shape)</b>: Changes the shape of the array in-place, modifying the original array. If the new shape is larger than the original shape, the array will be filled with repeated copies of the original data. If the new shape is smaller, elements will be discarded."
      ],
      "metadata": {
        "id": "eyQ4cFNCapcm"
      }
    },
    {
      "cell_type": "code",
      "source": [
        "import numpy as np\n",
        "\n",
        "arr = np.array([1, 2, 3, 4, 5, 6])\n",
        "\n",
        "arr.resize((2, 4))\n",
        "print(arr)\n",
        "# [[1 2 3 4]\n",
        "#  [5 6 1 2]]\n"
      ],
      "metadata": {
        "colab": {
          "base_uri": "https://localhost:8080/"
        },
        "id": "e7mNWXWTWYoz",
        "outputId": "c7544e1a-d888-4335-8adf-f93b6538b41c"
      },
      "execution_count": 15,
      "outputs": [
        {
          "output_type": "stream",
          "name": "stdout",
          "text": [
            "[[1 2 3 4]\n",
            " [5 6 0 0]]\n"
          ]
        }
      ]
    },
    {
      "cell_type": "markdown",
      "source": [
        "<h3>2.3.1. Reshaping with Specified Size:</h3>"
      ],
      "metadata": {
        "id": "jQ-4ZC5zZDCJ"
      }
    },
    {
      "cell_type": "markdown",
      "source": [
        "<b>ndarray.reshape(new_shape)</b>: Similar to the <b>reshape()</b> method, but you can specify one of the dimensions as -1, and NumPy will automatically calculate the correct size based on the other dimensions."
      ],
      "metadata": {
        "id": "l7FCgZrNZsNA"
      }
    },
    {
      "cell_type": "code",
      "source": [
        "import numpy as np\n",
        "\n",
        "arr = np.array([1, 2, 3, 4, 5, 6])\n",
        "\n",
        "reshaped_arr = arr.reshape((2, -1))\n",
        "print(reshaped_arr)\n",
        "# [[1 2 3]\n",
        "#  [4 5 6]]\n"
      ],
      "metadata": {
        "colab": {
          "base_uri": "https://localhost:8080/"
        },
        "id": "T--XSe3wZLhc",
        "outputId": "ab3c62ed-9c58-4009-c32a-894e9b45b49a"
      },
      "execution_count": 16,
      "outputs": [
        {
          "output_type": "stream",
          "name": "stdout",
          "text": [
            "[[1 2 3]\n",
            " [4 5 6]]\n"
          ]
        }
      ]
    },
    {
      "cell_type": "markdown",
      "source": [
        "<b>np.reshape(arr, new_shape)</b>: A function alternative to the reshape() method."
      ],
      "metadata": {
        "id": "7CywzFB-aH0o"
      }
    },
    {
      "cell_type": "code",
      "source": [
        "import numpy as np\n",
        "\n",
        "arr = np.array([1, 2, 3, 4, 5, 6])\n",
        "\n",
        "reshaped_arr = np.reshape(arr, (2, -1))\n",
        "print(reshaped_arr)\n",
        "# [[1 2 3]\n",
        "#  [4 5 6]]\n"
      ],
      "metadata": {
        "colab": {
          "base_uri": "https://localhost:8080/"
        },
        "id": "_etdd85UZhCV",
        "outputId": "1a7d13e9-2e55-46bc-8940-affe54941169"
      },
      "execution_count": 17,
      "outputs": [
        {
          "output_type": "stream",
          "name": "stdout",
          "text": [
            "[[1 2 3]\n",
            " [4 5 6]]\n"
          ]
        }
      ]
    },
    {
      "cell_type": "markdown",
      "source": [
        "<h2>2.4. Stacking and splitting arrays</h2>"
      ],
      "metadata": {
        "id": "pnGaWWTHdcgL"
      }
    },
    {
      "cell_type": "markdown",
      "source": [
        "<h3>2.4.1. Stacking Arrays:</h3>"
      ],
      "metadata": {
        "id": "BRIqmvP2dkFO"
      }
    },
    {
      "cell_type": "markdown",
      "source": [
        "<b>np.concatenate(arrays, axis=0)</b>: Concatenates multiple arrays along the specified axis. The arrays must have the same shape along the other dimensions."
      ],
      "metadata": {
        "id": "mnDVr61GeS6d"
      }
    },
    {
      "cell_type": "code",
      "source": [
        "import numpy as np\n",
        "\n",
        "arr1 = np.array([1, 2, 3])\n",
        "arr2 = np.array([4, 5, 6])\n",
        "\n",
        "stacked = np.concatenate((arr1, arr2))\n",
        "print(stacked)  # [1 2 3 4 5 6]\n"
      ],
      "metadata": {
        "colab": {
          "base_uri": "https://localhost:8080/"
        },
        "id": "DQUVltvzeieN",
        "outputId": "8426f58c-e26e-4402-b60c-3aae78006f80"
      },
      "execution_count": 18,
      "outputs": [
        {
          "output_type": "stream",
          "name": "stdout",
          "text": [
            "[1 2 3 4 5 6]\n"
          ]
        }
      ]
    },
    {
      "cell_type": "markdown",
      "source": [
        "<b>np.vstack(tup)</b>: Stacks arrays vertically (row-wise) to form a new array."
      ],
      "metadata": {
        "id": "E5VZ5KLSeX2h"
      }
    },
    {
      "cell_type": "code",
      "source": [
        "import numpy as np\n",
        "\n",
        "arr1 = np.array([1, 2, 3])\n",
        "arr2 = np.array([4, 5, 6])\n",
        "\n",
        "stacked = np.vstack((arr1, arr2))\n",
        "print(stacked)\n",
        "# [[1 2 3]\n",
        "#  [4 5 6]]\n"
      ],
      "metadata": {
        "colab": {
          "base_uri": "https://localhost:8080/"
        },
        "id": "Fwy_p090eqzY",
        "outputId": "be7428ac-6f66-44ee-95be-ffb0ed06d4d9"
      },
      "execution_count": 19,
      "outputs": [
        {
          "output_type": "stream",
          "name": "stdout",
          "text": [
            "[[1 2 3]\n",
            " [4 5 6]]\n"
          ]
        }
      ]
    },
    {
      "cell_type": "markdown",
      "source": [
        "<b>np.hstack(tup)</b>: Stacks arrays horizontally (column-wise) to form a new array."
      ],
      "metadata": {
        "id": "kVeD8wLhe5fD"
      }
    },
    {
      "cell_type": "code",
      "source": [
        "import numpy as np\n",
        "\n",
        "arr1 = np.array([1, 2, 3])\n",
        "arr2 = np.array([4, 5, 6])\n",
        "\n",
        "stacked = np.hstack((arr1, arr2))\n",
        "print(stacked)  # [1 2 3 4 5 6]\n"
      ],
      "metadata": {
        "colab": {
          "base_uri": "https://localhost:8080/"
        },
        "id": "3cgfS9nWe-oM",
        "outputId": "773f0093-7037-44c1-fc95-967eda3edbe8"
      },
      "execution_count": 21,
      "outputs": [
        {
          "output_type": "stream",
          "name": "stdout",
          "text": [
            "[1 2 3 4 5 6]\n"
          ]
        }
      ]
    },
    {
      "cell_type": "markdown",
      "source": [
        "<h3>2.4.2. Splitting Arrays:</h3>"
      ],
      "metadata": {
        "id": "9TF_tY3gfRki"
      }
    },
    {
      "cell_type": "markdown",
      "source": [
        "<b>np.split(arr, indices_or_sections, axis=0)</b>: Splits an array into multiple sub-arrays along the specified axis. The indices_or_sections argument specifies either the indices at which to split the array or the number of equally sized sub-arrays to create."
      ],
      "metadata": {
        "id": "7lrsADXVfcCP"
      }
    },
    {
      "cell_type": "code",
      "source": [
        "import numpy as np\n",
        "\n",
        "arr = np.array([1, 2, 3, 4, 5, 6])\n",
        "\n",
        "splitted = np.split(arr, 3)\n",
        "print(splitted)\n",
        "# [array([1, 2]), array([3, 4]), array([5, 6])]\n"
      ],
      "metadata": {
        "colab": {
          "base_uri": "https://localhost:8080/"
        },
        "id": "s7eYjMbafkS-",
        "outputId": "69422885-5331-46a3-d3be-9d8d3ffc4f1e"
      },
      "execution_count": 22,
      "outputs": [
        {
          "output_type": "stream",
          "name": "stdout",
          "text": [
            "[array([1, 2]), array([3, 4]), array([5, 6])]\n"
          ]
        }
      ]
    },
    {
      "cell_type": "markdown",
      "source": [
        "<b>np.vsplit(arr, indices_or_sections)</b>: Splits an array vertically (row-wise) into multiple sub-arrays."
      ],
      "metadata": {
        "id": "BUSvELa9f1qa"
      }
    },
    {
      "cell_type": "code",
      "source": [
        "import numpy as np\n",
        "\n",
        "arr = np.array([[1, 2, 3],\n",
        "                [4, 5, 6],\n",
        "                [7, 8, 9]])\n",
        "\n",
        "splitted = np.vsplit(arr, 3)\n",
        "print(splitted)\n",
        "# [array([[1, 2, 3]]),\n",
        "#  array([[4, 5, 6]]),\n",
        "#  array([[7, 8, 9]])]\n"
      ],
      "metadata": {
        "colab": {
          "base_uri": "https://localhost:8080/"
        },
        "id": "cxQV-j0igC4F",
        "outputId": "a3b77941-8a5f-41f3-9790-036c42c9ac63"
      },
      "execution_count": 23,
      "outputs": [
        {
          "output_type": "stream",
          "name": "stdout",
          "text": [
            "[array([[1, 2, 3]]), array([[4, 5, 6]]), array([[7, 8, 9]])]\n"
          ]
        }
      ]
    },
    {
      "cell_type": "markdown",
      "source": [
        "<b>np.hsplit(arr, indices_or_sections)</b>: Splits an array horizontally (column-wise) into multiple sub-arrays."
      ],
      "metadata": {
        "id": "QOaZUyG-f6nj"
      }
    },
    {
      "cell_type": "code",
      "source": [
        "import numpy as np\n",
        "\n",
        "arr = np.array([[1, 2, 3],\n",
        "                [4, 5, 6],\n",
        "                [7, 8, 9]])\n",
        "\n",
        "splitted = np.hsplit(arr, 3)\n",
        "print(splitted)\n",
        "# [array([[1],\n",
        "#         [4],\n",
        "#         [7]]),\n",
        "#  array([[2],\n",
        "#         [5],\n",
        "#         [8]]),\n",
        "#  array([[3],\n",
        "#         [6],\n",
        "#         [9]])]\n"
      ],
      "metadata": {
        "colab": {
          "base_uri": "https://localhost:8080/"
        },
        "id": "YQ_--JgNgQjx",
        "outputId": "148a0b32-3b77-4782-8da8-dcb0ef10ced3"
      },
      "execution_count": 24,
      "outputs": [
        {
          "output_type": "stream",
          "name": "stdout",
          "text": [
            "[array([[1],\n",
            "       [4],\n",
            "       [7]]), array([[2],\n",
            "       [5],\n",
            "       [8]]), array([[3],\n",
            "       [6],\n",
            "       [9]])]\n"
          ]
        }
      ]
    }
  ]
}