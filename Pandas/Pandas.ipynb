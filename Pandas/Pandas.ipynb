{
  "nbformat": 4,
  "nbformat_minor": 0,
  "metadata": {
    "colab": {
      "provenance": [],
      "authorship_tag": "ABX9TyNUB7qV1V/p7owlVsF2C75Y",
      "include_colab_link": true
    },
    "kernelspec": {
      "name": "python3",
      "display_name": "Python 3"
    },
    "language_info": {
      "name": "python"
    }
  },
  "cells": [
    {
      "cell_type": "markdown",
      "metadata": {
        "id": "view-in-github",
        "colab_type": "text"
      },
      "source": [
        "<a href=\"https://colab.research.google.com/github/Derrick287/Data-Analysis-with-Python/blob/main/Pandas/Pandas.ipynb\" target=\"_parent\"><img src=\"https://colab.research.google.com/assets/colab-badge.svg\" alt=\"Open In Colab\"/></a>"
      ]
    },
    {
      "cell_type": "markdown",
      "source": [
        "1. <h1>Introduction to key Pandas data structures: Series and DataFrame</h1>\n",
        "\n",
        "1. Series:\n",
        "   - A Series is a one-dimensional labeled array capable of holding any data type (e.g., integers, strings, floats, etc.).\n",
        "   - It can be thought of as a column in a spreadsheet or a single column of data in a table.\n",
        "   - Series objects consist of two main components: the index and the data.\n",
        "   - The index provides labels for each element in the Series, allowing for efficient data retrieval and alignment.\n",
        "   - The data component stores the actual values of the Series.\n",
        "2. DataFrame:\n",
        "   - A DataFrame is a two-dimensional labeled data structure with columns of potentially different data types.\n",
        "   - It can be thought of as a table or a spreadsheet with rows and columns.\n",
        "   - DataFrames are the primary data structure used in Pandas and are highly versatile for data analysis.\n",
        "   - Each column in a DataFrame is a Series object, sharing the same index.\n",
        "   - DataFrames have both row and column indexes, enabling flexible data access and manipulation.\n",
        "Key Differences between Series and DataFrame:\n",
        "1. Dimensionality:\n",
        "   - Series is one-dimensional, representing a single column of data.\n",
        "   - DataFrame is two-dimensional, representing a table with rows and columns.\n",
        "2. Structure:\n",
        "   - Series has a single index, providing labels for each element in the series.\n",
        "   - DataFrame has both row and column indexes, allowing for efficient data alignment and manipulation.\n",
        "3. Data Types:\n",
        "   - Series can hold data of any type, such as integers, strings, floats, etc.\n",
        "   - DataFrame allows for different data types in different columns.\n",
        "4. Relationship:\n",
        "   - A DataFrame is a collection of Series objects that share the same index.\n",
        "   - Each column in a DataFrame can be accessed as a separate Series.\n",
        "Use Cases:\n",
        "1. Series:\n",
        "   - Working with a single column of data, such as stock prices, temperature readings, or sales figures.\n",
        "   - Performing operations or calculations on a specific column of data.\n",
        "2. DataFrame:\n",
        "   - Handling tabular data with multiple columns, such as a dataset with observations across different variables.\n",
        "   - Performing data manipulation, analysis, and cleaning tasks on structured data.\n",
        "   - Merging, joining, and aggregating data from different sources.\n",
        "\n"
      ],
      "metadata": {
        "id": "MTSibXEpgaHd"
      }
    },
    {
      "cell_type": "markdown",
      "source": [
        "2. <h1>Working with Series</h1>"
      ],
      "metadata": {
        "id": "012UZvgOhcHP"
      }
    },
    {
      "cell_type": "markdown",
      "source": [
        "<h2>Creating a Series</h2>\n",
        "You can create a Series in Pandas using the <b>pd.Series()</b> function."
      ],
      "metadata": {
        "id": "_4VOKX62hlE7"
      }
    },
    {
      "cell_type": "code",
      "source": [
        "import pandas as pd\n",
        "\n",
        "# Creating a Series from a list\n",
        "data = [10, 20, 30, 40, 50]\n",
        "series = pd.Series(data)\n",
        "print(series)\n"
      ],
      "metadata": {
        "colab": {
          "base_uri": "https://localhost:8080/"
        },
        "id": "bPt7Nwoqg5Oc",
        "outputId": "61e9bfcf-bd3f-426c-9d40-37ec1dc4efaf"
      },
      "execution_count": null,
      "outputs": [
        {
          "output_type": "stream",
          "name": "stdout",
          "text": [
            "0    10\n",
            "1    20\n",
            "2    30\n",
            "3    40\n",
            "4    50\n",
            "dtype: int64\n"
          ]
        }
      ]
    },
    {
      "cell_type": "markdown",
      "source": [
        "<h2>Indexing and slicing Series</h2>\n",
        "Series objects have an index associated with each element, allowing you to access and slice data. You can use various indexing techniques, including integer-based indexing, label-based indexing, and boolean indexing."
      ],
      "metadata": {
        "id": "1Twg2UhCiuwe"
      }
    },
    {
      "cell_type": "code",
      "source": [
        "# Integer-based indexing\n",
        "print(series[0])     # Accessing the first element\n",
        "print(series[2:4])   # Slicing from index 2 to 4 (exclusive)\n",
        "\n",
        "# Label-based indexing\n",
        "index = ['A', 'B', 'C', 'D', 'E']\n",
        "series = pd.Series(data, index=index)\n",
        "print(series['B'])   # Accessing element by label\n",
        "\n",
        "# Boolean indexing\n",
        "print(series[series > 30])   # Selecting elements based on a condition\n"
      ],
      "metadata": {
        "colab": {
          "base_uri": "https://localhost:8080/"
        },
        "id": "uHM791rle4fc",
        "outputId": "792b6dac-9272-4072-cf1c-bb8af01e645f"
      },
      "execution_count": null,
      "outputs": [
        {
          "output_type": "stream",
          "name": "stdout",
          "text": [
            "10\n",
            "2    30\n",
            "3    40\n",
            "dtype: int64\n",
            "20\n",
            "D    40\n",
            "E    50\n",
            "dtype: int64\n"
          ]
        }
      ]
    },
    {
      "cell_type": "markdown",
      "source": [
        "<h2>Performing basic operations on Series (e.g., arithmetic operations)</h2>\n",
        "You can perform arithmetic operations on Series, such as addition, subtraction, multiplication, and division. The operations are applied element-wise, based on the index alignment."
      ],
      "metadata": {
        "id": "4qqN_ickkMUt"
      }
    },
    {
      "cell_type": "code",
      "execution_count": null,
      "metadata": {
        "colab": {
          "base_uri": "https://localhost:8080/"
        },
        "id": "nBSN8J4_dC4l",
        "outputId": "c6819091-5420-4648-ed69-a046f008fc1c"
      },
      "outputs": [
        {
          "output_type": "stream",
          "name": "stdout",
          "text": [
            "0    11\n",
            "1    22\n",
            "2    33\n",
            "dtype: int64\n",
            "0     9\n",
            "1    18\n",
            "2    27\n",
            "dtype: int64\n",
            "0    10\n",
            "1    40\n",
            "2    90\n",
            "dtype: int64\n",
            "0    10.0\n",
            "1    10.0\n",
            "2    10.0\n",
            "dtype: float64\n"
          ]
        }
      ],
      "source": [
        "series1 = pd.Series([1, 2, 3])\n",
        "series2 = pd.Series([10, 20, 30])\n",
        "\n",
        "# Addition\n",
        "result = series1 + series2\n",
        "print(result)\n",
        "\n",
        "# Subtraction\n",
        "result = series2 - series1\n",
        "print(result)\n",
        "\n",
        "# Multiplication\n",
        "result = series1 * series2\n",
        "print(result)\n",
        "\n",
        "# Division\n",
        "result = series2 / series1\n",
        "print(result)\n"
      ]
    },
    {
      "cell_type": "markdown",
      "source": [
        "<h2>Handling missing data in Series</h2>\n",
        "Pandas provides various methods to handle missing or NaN (Not a Number) data in a Series. Some commonly used methods include <b> notnull()</b>, <b> isnull()</b>, and <b>fillna()</b>."
      ],
      "metadata": {
        "id": "DvBEYyxDk_tN"
      }
    },
    {
      "cell_type": "code",
      "source": [
        "series = pd.Series([10, 20, None, 40, None])\n",
        "\n",
        "# Checking for missing values\n",
        "print(series.isnull())\n",
        "\n",
        "# Checking for non-missing values\n",
        "print(series.notnull())\n",
        "\n",
        "# Filling missing values with a specific value\n",
        "filled_series = series.fillna(0)\n",
        "print(filled_series)\n"
      ],
      "metadata": {
        "colab": {
          "base_uri": "https://localhost:8080/"
        },
        "id": "ItQvV_pdlMU8",
        "outputId": "63842931-e28c-4512-a008-c5ae72938774"
      },
      "execution_count": null,
      "outputs": [
        {
          "output_type": "stream",
          "name": "stdout",
          "text": [
            "0    False\n",
            "1    False\n",
            "2     True\n",
            "3    False\n",
            "4     True\n",
            "dtype: bool\n",
            "0     True\n",
            "1     True\n",
            "2    False\n",
            "3     True\n",
            "4    False\n",
            "dtype: bool\n",
            "0    10.0\n",
            "1    20.0\n",
            "2     0.0\n",
            "3    40.0\n",
            "4     0.0\n",
            "dtype: float64\n"
          ]
        }
      ]
    },
    {
      "cell_type": "markdown",
      "source": [
        "<h2>Applying functions and methods to Series</h2>\n",
        "Pandas provides a wide range of built-in functions and methods that can be applied to Series. These include mathematical functions (<b>sum(), mean(), min(), max()</b>), statistical functions (<b>describe(), std(), count()</b>), and many more."
      ],
      "metadata": {
        "id": "nJVdMXgGn6Ab"
      }
    },
    {
      "cell_type": "code",
      "source": [
        "series = pd.Series([1, 2, 3, 4, 5])\n",
        "\n",
        "# Applying mathematical functions\n",
        "print(\"sum: \", series.sum())\n",
        "print(\"mean: \", series.mean())\n",
        "print(\"min: \", series.min())\n",
        "print(\"max: \", series.max())\n",
        "print()\n",
        "# Applying statistical functions\n",
        "print(\"Describe: \\n\", series.describe())\n",
        "print()\n",
        "print(\"std: \", series.std())\n",
        "print(\"count: \", series.count())\n"
      ],
      "metadata": {
        "colab": {
          "base_uri": "https://localhost:8080/"
        },
        "id": "efsCyM0moO7k",
        "outputId": "4b6c209e-f39a-49a9-f7e8-e4ccc03e3a41"
      },
      "execution_count": null,
      "outputs": [
        {
          "output_type": "stream",
          "name": "stdout",
          "text": [
            "sum:  15\n",
            "mean:  3.0\n",
            "min:  1\n",
            "max:  5\n",
            "\n",
            "Describe: \n",
            " count    5.000000\n",
            "mean     3.000000\n",
            "std      1.581139\n",
            "min      1.000000\n",
            "25%      2.000000\n",
            "50%      3.000000\n",
            "75%      4.000000\n",
            "max      5.000000\n",
            "dtype: float64\n",
            "\n",
            "std:  1.5811388300841898\n",
            "count:  5\n"
          ]
        }
      ]
    },
    {
      "cell_type": "markdown",
      "source": [
        "3. <h1>Introduction to DataFrames</h1>"
      ],
      "metadata": {
        "id": "SugyyyDXrkMW"
      }
    },
    {
      "cell_type": "markdown",
      "source": [
        "<h2>Creating a DataFrame:</h2>\n",
        "To create a DataFrame in Pandas, you can use the pd.DataFrame() function. There are several ways to create a DataFrame:<br>\n",
        "a. <b>From a dictionary</b>: Each key-value pair represents a column, and the values can be lists, arrays, or Series.<br>\n",
        "b. <b>From a 2D array or a nested list</b>: Each nested list represents a row in the DataFrame.<br>\n",
        "c. <b>From a CSV, Excel file, or other data sources.</b>"
      ],
      "metadata": {
        "id": "tqj8zBvzr88a"
      }
    },
    {
      "cell_type": "code",
      "source": [
        "import pandas as pd\n",
        "\n",
        "data = {\n",
        "    'Name': ['John', 'Alice', 'Bob'],\n",
        "    'Age': [25, 30, 35],\n",
        "    'City': ['New York', 'London', 'Paris']\n",
        "}\n",
        "\n",
        "df = pd.DataFrame(data)\n",
        "print(df)\n"
      ],
      "metadata": {
        "colab": {
          "base_uri": "https://localhost:8080/"
        },
        "id": "wxIsFixYsiaM",
        "outputId": "5692e2b3-5293-4795-8b80-628c272f01be"
      },
      "execution_count": null,
      "outputs": [
        {
          "output_type": "stream",
          "name": "stdout",
          "text": [
            "    Name  Age      City\n",
            "0   John   25  New York\n",
            "1  Alice   30    London\n",
            "2    Bob   35     Paris\n"
          ]
        }
      ]
    },
    {
      "cell_type": "markdown",
      "source": [
        "<h2>Loading data into a DataFrame</h2>\n",
        "Pandas provides functions to load data from various file formats, including CSV, Excel, JSON, SQL databases, and more. Here's an example of loading data from a CSV file:"
      ],
      "metadata": {
        "id": "LID_ivHCta3s"
      }
    },
    {
      "cell_type": "code",
      "source": [
        "import pandas as pd\n",
        "\n",
        "df = pd.read_csv('data.csv')\n",
        "print(df)\n"
      ],
      "metadata": {
        "id": "nNJQM8GPuO1P"
      },
      "execution_count": null,
      "outputs": []
    },
    {
      "cell_type": "markdown",
      "source": [
        "<h2>Basic DataFrame operations: indexing, slicing, and subsetting:</h2>\n",
        "DataFrames allow for various operations to access and manipulate data. You can perform indexing, slicing, and subsetting to extract specific rows or columns from the DataFrame."
      ],
      "metadata": {
        "id": "S-Zsf9AhugW1"
      }
    },
    {
      "cell_type": "code",
      "source": [
        "# Indexing columns\n",
        "age_column = df['Age']  # Accessing a specific column\n",
        "print(age_column)\n",
        "print(\"---------------------------------------------------------\")\n",
        "# Slicing rows\n",
        "subset = df[1:3]  # Selecting rows 1 and 2\n",
        "print(subset)\n",
        "print(\"---------------------------------------------------------\")\n",
        "# Subsetting based on conditions\n",
        "subset = df[df['Age'] > 30]  # Selecting rows where Age is greater than 30\n",
        "print(subset)\n"
      ],
      "metadata": {
        "colab": {
          "base_uri": "https://localhost:8080/"
        },
        "id": "1XBadls9usTM",
        "outputId": "a690f00c-8780-4dd5-ae1f-b3cfa837eb85"
      },
      "execution_count": null,
      "outputs": [
        {
          "output_type": "stream",
          "name": "stdout",
          "text": [
            "0    25\n",
            "1    30\n",
            "2    35\n",
            "Name: Age, dtype: int64\n",
            "---------------------------------------------------------\n",
            "    Name  Age    City\n",
            "1  Alice   30  London\n",
            "2    Bob   35   Paris\n",
            "---------------------------------------------------------\n",
            "  Name  Age   City\n",
            "2  Bob   35  Paris\n"
          ]
        }
      ]
    },
    {
      "cell_type": "markdown",
      "source": [
        "<h2>Descriptive statistics for DataFrames</h2>\n",
        "Pandas provides several methods to compute descriptive statistics for DataFrames, such as <b>describe(), mean(), min(), max(), count(), std(),</b> and more. These methods offer insights into the central tendency, dispersion, and other summary statistics of the data."
      ],
      "metadata": {
        "id": "Uzoc2a8qx1bs"
      }
    },
    {
      "cell_type": "code",
      "source": [
        "# Summary statistics\n",
        "summary = df.describe()\n",
        "print(summary)\n",
        "print(\"---------------------------------------------------------\")\n",
        "# Computing mean of a specific column\n",
        "age_mean = df['Age'].mean()\n",
        "print(age_mean)\n"
      ],
      "metadata": {
        "colab": {
          "base_uri": "https://localhost:8080/"
        },
        "id": "NYOlKiSbyDO_",
        "outputId": "82c0adec-125e-4bba-f69a-6026fbfe1662"
      },
      "execution_count": null,
      "outputs": [
        {
          "output_type": "stream",
          "name": "stdout",
          "text": [
            "        Age\n",
            "count   3.0\n",
            "mean   30.0\n",
            "std     5.0\n",
            "min    25.0\n",
            "25%    27.5\n",
            "50%    30.0\n",
            "75%    32.5\n",
            "max    35.0\n",
            "---------------------------------------------------------\n",
            "30.0\n"
          ]
        }
      ]
    },
    {
      "cell_type": "markdown",
      "source": [
        "<h2>Handling missing data in DataFrames</h2>\n",
        "Missing data is a common occurrence in real-world datasets. Pandas offers methods to handle missing values, such as <b>isnull(), notnull(), fillna(),</b> and <b>dropna()</b>."
      ],
      "metadata": {
        "id": "4n0aIE6NyjUh"
      }
    },
    {
      "cell_type": "code",
      "source": [
        "# Checking for missing values\n",
        "print(df.isnull())\n",
        "print(\"---------------------------------------------------------\")\n",
        "# Checking for non-missing values\n",
        "print(df.notnull())\n",
        "print(\"---------------------------------------------------------\")\n",
        "# Filling missing values with a specific value\n",
        "filled_df = df.fillna(0)\n",
        "print(filled_df)\n",
        "print(\"---------------------------------------------------------\")\n",
        "# Dropping rows with missing values\n",
        "cleaned_df = df.dropna()\n",
        "print(cleaned_df)\n"
      ],
      "metadata": {
        "colab": {
          "base_uri": "https://localhost:8080/"
        },
        "id": "4KTd2BbXy8Nd",
        "outputId": "494edc63-434b-43f7-bc35-afae061e3df3"
      },
      "execution_count": null,
      "outputs": [
        {
          "output_type": "stream",
          "name": "stdout",
          "text": [
            "    Name    Age   City\n",
            "0  False  False  False\n",
            "1  False  False  False\n",
            "2  False  False  False\n",
            "---------------------------------------------------------\n",
            "   Name   Age  City\n",
            "0  True  True  True\n",
            "1  True  True  True\n",
            "2  True  True  True\n",
            "---------------------------------------------------------\n",
            "    Name  Age      City\n",
            "0   John   25  New York\n",
            "1  Alice   30    London\n",
            "2    Bob   35     Paris\n",
            "---------------------------------------------------------\n",
            "    Name  Age      City\n",
            "0   John   25  New York\n",
            "1  Alice   30    London\n",
            "2    Bob   35     Paris\n"
          ]
        }
      ]
    },
    {
      "cell_type": "markdown",
      "source": [
        "4. <h1>Data Manipulation with DataFrames</h1>"
      ],
      "metadata": {
        "id": "6Gq-Pu-py6w-"
      }
    },
    {
      "cell_type": "markdown",
      "source": [
        "<h2>Selecting and filtering data from DataFrames</h2>\n",
        "Pandas provides several techniques to select and filter data from DataFrames based on specific conditions. You can use methods like <b>loc[]</b> and <b>iloc[]</b> for label-based and integer-based indexing, respectively. You can also apply boolean indexing to filter rows based on certain criteri"
      ],
      "metadata": {
        "id": "NFsZyeQLzuJ6"
      }
    },
    {
      "cell_type": "code",
      "source": [
        "# Selecting columns by name\n",
        "selected_columns = df[['Name', 'Age']]\n",
        "\n",
        "# Selecting rows by label-based indexing\n",
        "subset = df.loc[df['Age'] > 30]\n",
        "\n",
        "# Selecting rows by integer-based indexing\n",
        "subset = df.iloc[1:4]\n",
        "\n",
        "# Applying boolean indexing\n",
        "subset = df[df['City'] == 'New York']\n"
      ],
      "metadata": {
        "id": "_RGA9lr00O2O"
      },
      "execution_count": null,
      "outputs": []
    },
    {
      "cell_type": "markdown",
      "source": [
        "<h2>Modifying DataFrame structure: adding, deleting, and renaming columns</h2>\n",
        "Pandas allows you to modify the structure of DataFrames by adding, deleting, and renaming columns. You can use assignment (=) to add or modify columns, the <b>drop()</b> method to delete columns, and the <b>rename()</b> method to rename columns."
      ],
      "metadata": {
        "id": "a-eTiPMQ0ndg"
      }
    },
    {
      "cell_type": "code",
      "source": [
        "# Adding a new column\n",
        "df['Gender'] = ['M', 'F', 'M']\n",
        "\n",
        "# Modifying an existing column\n",
        "df['Age'] = df['Age'] + 1\n",
        "\n",
        "# Deleting a column\n",
        "df = df.drop('City', axis=1)\n",
        "\n",
        "# Renaming columns\n",
        "df = df.rename(columns={'Name': 'Full Name', 'Age': 'Age (in years)'})\n"
      ],
      "metadata": {
        "id": "8EeHw1Bc1AdQ"
      },
      "execution_count": null,
      "outputs": []
    },
    {
      "cell_type": "markdown",
      "source": [
        "<h2>Sorting and ranking data</h2>\n",
        "You can sort DataFrames based on one or more columns using the <b>sort_values()</b> method. Additionally, you can rank the data using the <b>rank()</b> method, which assigns ranks to the values within each column."
      ],
      "metadata": {
        "id": "zC4VrPYz1V46"
      }
    },
    {
      "cell_type": "code",
      "source": [
        "# Sorting DataFrame by column(s)\n",
        "sorted_df = df.sort_values(by='Age', ascending=False)\n",
        "\n",
        "# Sorting DataFrame by multiple columns\n",
        "sorted_df = df.sort_values(by=['City', 'Age'])\n",
        "\n",
        "# Ranking DataFrame values within each column\n",
        "ranked_df = df.rank()\n"
      ],
      "metadata": {
        "id": "N4CMfvhI1u5I"
      },
      "execution_count": null,
      "outputs": []
    },
    {
      "cell_type": "markdown",
      "source": [
        "<h2>Handling duplicates in DataFrames</h2>\n",
        "Pandas provides methods to identify and handle duplicate rows in DataFrames. The <b>duplicated()</b> method detects duplicate rows, and the <b>drop_duplicates()</b> method removes duplicates based on specific columns or the entire row."
      ],
      "metadata": {
        "id": "GiaGr9Oj3cdB"
      }
    },
    {
      "cell_type": "code",
      "source": [
        "# Identifying duplicate rows\n",
        "duplicates = df.duplicated()\n",
        "\n",
        "# Removing duplicate rows\n",
        "df = df.drop_duplicates()\n",
        "\n",
        "# Removing duplicate rows based on specific columns\n",
        "df = df.drop_duplicates(subset=['Name', 'Age'])\n"
      ],
      "metadata": {
        "id": "ae63fDIY4BVP"
      },
      "execution_count": null,
      "outputs": []
    },
    {
      "cell_type": "markdown",
      "source": [
        "<h2>Merging, joining, and concatenating DataFrames</h2>\n",
        "Pandas offers various methods to combine DataFrames based on common columns or indexes. You can use <b>merge()</b> for database-style joins, <b>join()</b> for combining DataFrames on indexes, and <b>concat()</b> for concatenating DataFrames vertically or horizontally."
      ],
      "metadata": {
        "id": "pvRIRRkM4CM-"
      }
    },
    {
      "cell_type": "code",
      "source": [
        "# Merging DataFrames based on common columns\n",
        "merged_df = pd.merge(df1, df2, on='ID')\n",
        "\n",
        "# Joining DataFrames based on indexes\n",
        "joined_df = df1.join(df2)\n",
        "\n",
        "# Concatenating DataFrames vertically\n",
        "concatenated_df = pd.concat([df1, df2])\n",
        "\n",
        "# Concatenating DataFrames horizontally\n",
        "concatenated_df = pd.concat([df1, df2], axis=1)\n"
      ],
      "metadata": {
        "id": "FQY7UD3_4tcW"
      },
      "execution_count": null,
      "outputs": []
    },
    {
      "cell_type": "markdown",
      "source": [
        "5. <h1>Data Cleaning and Preprocessing</h1>"
      ],
      "metadata": {
        "id": "la2FqcAJ5YvU"
      }
    },
    {
      "cell_type": "markdown",
      "source": [
        "<h2>Dealing with missing data</h2>\n",
        "imputation, dropping missing values:\n",
        "Missing data is a common issue in datasets. Pandas provides methods to handle missing values, such as imputation (filling missing values with estimated values) and dropping missing values."
      ],
      "metadata": {
        "id": "atBl2kL45sEk"
      }
    },
    {
      "cell_type": "code",
      "source": [
        "# Filling missing values with a specific value\n",
        "df['Column'].fillna(value, inplace=True)\n",
        "\n",
        "# Filling missing values with mean, median, or mode\n",
        "df['Column'].fillna(df['Column'].mean(), inplace=True)\n",
        "\n",
        "# Dropping rows with missing values\n",
        "df.dropna(inplace=True)\n"
      ],
      "metadata": {
        "id": "6y38bx256D2X"
      },
      "execution_count": null,
      "outputs": []
    },
    {
      "cell_type": "markdown",
      "source": [
        "<h2>Removing outliers from data</h2>\n",
        "Outliers are extreme values that deviate significantly from the rest of the data. They can affect the accuracy and reliability of analysis. Pandas offers various methods to identify and handle outliers, such as using z-scores or percentiles."
      ],
      "metadata": {
        "id": "uTjHhWVD6Iot"
      }
    },
    {
      "cell_type": "code",
      "source": [
        "# Identifying outliers using z-score\n",
        "z_scores = (df['Column'] - df['Column'].mean()) / df['Column'].std()\n",
        "outliers = df[z_scores > 3]\n",
        "\n",
        "# Removing outliers based on z-score\n",
        "df = df[z_scores <= 3]\n",
        "\n",
        "# Identifying outliers using percentiles\n",
        "q1 = df['Column'].quantile(0.25)\n",
        "q3 = df['Column'].quantile(0.75)\n",
        "iqr = q3 - q1\n",
        "lower_bound = q1 - 1.5 * iqr\n",
        "upper_bound = q3 + 1.5 * iqr\n",
        "outliers = df[(df['Column'] < lower_bound) | (df['Column'] > upper_bound)]\n",
        "\n",
        "# Removing outliers based on percentiles\n",
        "df = df[(df['Column'] >= lower_bound) & (df['Column'] <= upper_bound)]\n"
      ],
      "metadata": {
        "id": "26WrBiuK6-d-"
      },
      "execution_count": null,
      "outputs": []
    },
    {
      "cell_type": "markdown",
      "source": [
        "<h2>Data type conversion and handling categorical data</h2>\n",
        "Pandas provides methods to convert data types and handle categorical variables. You can use the <b>astype()</b> method to convert data types, and the <b>pd.Categorical()</b> or <b>pd.get_dummies()</b> functions to handle categorical data."
      ],
      "metadata": {
        "id": "MwhTHbLC6_kD"
      }
    },
    {
      "cell_type": "code",
      "source": [
        "# Converting data type of a column\n",
        "df['Column'] = df['Column'].astype(int)\n",
        "\n",
        "# Converting a column to categorical type\n",
        "df['Category'] = pd.Categorical(df['Category'])\n",
        "\n",
        "# Creating dummy variables for categorical data\n",
        "dummy_df = pd.get_dummies(df['Category'])\n",
        "df = pd.concat([df, dummy_df], axis=1)\n"
      ],
      "metadata": {
        "id": "kbp40GFv8EJr"
      },
      "execution_count": null,
      "outputs": []
    },
    {
      "cell_type": "markdown",
      "source": [
        "<h2>String operations and text processing</h2>\n",
        "Pandas provides several string methods that can be applied to string columns for text processing and cleaning operations. These methods include <b>str.lower()</b>, str.upper()</b>, <b>str.replace()</b>, <b>str.split()</b>, and more."
      ],
      "metadata": {
        "id": "-60BqwzX6_sU"
      }
    },
    {
      "cell_type": "code",
      "source": [
        "# Converting strings to lowercase\n",
        "df['Column'] = df['Column'].str.lower()\n",
        "\n",
        "# Replacing substrings in a column\n",
        "df['Column'] = df['Column'].str.replace('old', 'new')\n",
        "\n",
        "# Splitting strings into multiple columns\n",
        "df[['First Name', 'Last Name']] = df['Full Name'].str.split(' ', expand=True)\n"
      ],
      "metadata": {
        "id": "oCo6CX678_CQ"
      },
      "execution_count": null,
      "outputs": []
    }
  ]
}